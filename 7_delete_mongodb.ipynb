{
 "cells": [
  {
   "cell_type": "markdown",
   "metadata": {},
   "source": [
    "Delete Document\n",
    "\n",
    "To delete one document, we use the delete_one() method.\n",
    "\n",
    "The first parameter of the delete_one() method is a query object defining which document to delete.\n",
    "\n",
    "If the query finds more than one document, only the first occurrence is deleted."
   ]
  },
  {
   "cell_type": "code",
   "execution_count": 5,
   "metadata": {},
   "outputs": [],
   "source": [
    "import pymongo\n",
    "\n",
    "myclient = pymongo.MongoClient(\"mongodb://localhost:27017/\")\n",
    "mydb = myclient[\"mydatabase\"]\n",
    "\n",
    "mycol = mydb[\"customers\"]"
   ]
  },
  {
   "cell_type": "code",
   "execution_count": 6,
   "metadata": {},
   "outputs": [
    {
     "data": {
      "text/plain": [
       "DeleteResult({'n': 0, 'ok': 1.0}, acknowledged=True)"
      ]
     },
     "execution_count": 6,
     "metadata": {},
     "output_type": "execute_result"
    }
   ],
   "source": [
    "# Delete the document with the address \"Mountain 21\":\n",
    "\n",
    "myquery = {\n",
    "    \"address\" : \"Mountian 21\"\n",
    "}\n",
    "\n",
    "mycol.delete_one(myquery)"
   ]
  },
  {
   "cell_type": "code",
   "execution_count": null,
   "metadata": {},
   "outputs": [],
   "source": [
    "# Delete Many Documents\n",
    "# To delete more than one document, use the delete_many() method.\n",
    "\n",
    "# The first parameter of the delete_many() method is a query object \n",
    "# defining which documents to delete.\n",
    "\n",
    "# Delete all documents were the address starts with the letter S:\n",
    "\n",
    "myquery = { \"address\": {\"$regex\": \"^S\"} }\n",
    "\n",
    "x = mycol.delete_many(myquery)\n",
    "\n",
    "print(x.deleted_count, \" documents deleted.\")"
   ]
  },
  {
   "cell_type": "code",
   "execution_count": null,
   "metadata": {},
   "outputs": [],
   "source": [
    "# Delete All Documents in a Collection\n",
    "# To delete all documents in a collection, pass an \n",
    "# empty query object to the delete_many() method:\n",
    "\n",
    "# Delete all documents in the \"customers\" collection:\n",
    "\n",
    "\n",
    "x = mycol.delete_many({})\n",
    "print(x.deleted_count, \" documents deleted.\")"
   ]
  }
 ],
 "metadata": {
  "kernelspec": {
   "display_name": "LearnPython",
   "language": "python",
   "name": "python3"
  },
  "language_info": {
   "codemirror_mode": {
    "name": "ipython",
    "version": 3
   },
   "file_extension": ".py",
   "mimetype": "text/x-python",
   "name": "python",
   "nbconvert_exporter": "python",
   "pygments_lexer": "ipython3",
   "version": "3.12.5"
  }
 },
 "nbformat": 4,
 "nbformat_minor": 2
}
