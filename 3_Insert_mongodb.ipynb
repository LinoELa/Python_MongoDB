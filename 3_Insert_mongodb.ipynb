{
 "cells": [
  {
   "cell_type": "code",
   "execution_count": 3,
   "metadata": {},
   "outputs": [],
   "source": [
    "import pymongo\n",
    "\n",
    "myclient = pymongo.MongoClient(\"mongodb://localhost:27017/\")\n",
    "mydb = myclient[\"mydatabase\"]\n",
    "\n",
    "mycol = mydb[\"customers\"]"
   ]
  },
  {
   "cell_type": "code",
   "execution_count": 4,
   "metadata": {},
   "outputs": [],
   "source": [
    "# A document in MongoDB is the same as a record in SQL databases.\n",
    "\n",
    "# Insert Into Collection\n",
    "# To insert a record, or document as it is called in MongoDB, \n",
    "# into a collection, we use the insert_one() method.\n",
    "\n",
    "# The first parameter of the insert_one() method is a dictionary containing\n",
    "#  the name(s) and value(s) of each field in the document you want to insert.\n",
    "\n",
    "\n",
    "\n",
    "# insertando un record en  Practica \n",
    "\n",
    "mycol = mydb[\"customers\"]\n",
    "mydict = { \"name\": \"John\", \"address\": \"Highway 37\" }\n",
    "\n",
    "x = mycol.insert_one(mydict)"
   ]
  },
  {
   "cell_type": "code",
   "execution_count": 5,
   "metadata": {},
   "outputs": [
    {
     "name": "stdout",
     "output_type": "stream",
     "text": [
      "6705ad32641bf62be110c197\n"
     ]
    }
   ],
   "source": [
    "# Return the _id Field\n",
    "\n",
    "\n",
    "# The insert_one() method returns a InsertOneResult object, which has \n",
    "# a property, inserted_id, that holds the id of the inserted document.\n",
    "\n",
    "\n",
    "# Insert another record in the \"customers\" collection, and return the value of the _id field:\n",
    "mydict = { \"name\": \"Peter\", \"address\": \"Lowstreet 27\" }\n",
    "\n",
    "x = mycol.insert_one(mydict)\n",
    "\n",
    "print(x.inserted_id)\n",
    "\n",
    "\n",
    "# If you do not specify an _id field, then MongoDB will add one for you and\n",
    "#  assign a unique id for each document.\n",
    "\n",
    "# In the example above no _id field was specified, so MongoDB assigned a \n",
    "# unique _id for the record (document)."
   ]
  },
  {
   "cell_type": "code",
   "execution_count": 6,
   "metadata": {},
   "outputs": [
    {
     "name": "stdout",
     "output_type": "stream",
     "text": [
      "[ObjectId('6705adb9641bf62be110c198'), ObjectId('6705adb9641bf62be110c199'), ObjectId('6705adb9641bf62be110c19a'), ObjectId('6705adb9641bf62be110c19b'), ObjectId('6705adb9641bf62be110c19c'), ObjectId('6705adb9641bf62be110c19d'), ObjectId('6705adb9641bf62be110c19e'), ObjectId('6705adb9641bf62be110c19f'), ObjectId('6705adb9641bf62be110c1a0'), ObjectId('6705adb9641bf62be110c1a1'), ObjectId('6705adb9641bf62be110c1a2'), ObjectId('6705adb9641bf62be110c1a3')]\n"
     ]
    }
   ],
   "source": [
    "# Insert Multiple Documents\n",
    "\n",
    "# To insert multiple documents into a collection in MongoDB, \n",
    "# we use the insert_many() method.\n",
    "\n",
    "# The first parameter of the insert_many() \n",
    "# method is a list containing dictionaries with the data you want to insert:\n",
    "\n",
    "\n",
    "mycol = mydb[\"customers\"]\n",
    "\n",
    "\n",
    "mylist = [\n",
    "  { \"name\": \"Amy\", \"address\": \"Apple st 652\"},\n",
    "  { \"name\": \"Hannah\", \"address\": \"Mountain 21\"},\n",
    "  { \"name\": \"Michael\", \"address\": \"Valley 345\"},\n",
    "  { \"name\": \"Sandy\", \"address\": \"Ocean blvd 2\"},\n",
    "  { \"name\": \"Betty\", \"address\": \"Green Grass 1\"},\n",
    "  { \"name\": \"Richard\", \"address\": \"Sky st 331\"},\n",
    "  { \"name\": \"Susan\", \"address\": \"One way 98\"},\n",
    "  { \"name\": \"Vicky\", \"address\": \"Yellow Garden 2\"},\n",
    "  { \"name\": \"Ben\", \"address\": \"Park Lane 38\"},\n",
    "  { \"name\": \"William\", \"address\": \"Central st 954\"},\n",
    "  { \"name\": \"Chuck\", \"address\": \"Main Road 989\"},\n",
    "  { \"name\": \"Viola\", \"address\": \"Sideway 1633\"}\n",
    "]\n",
    "\n",
    "x = mycol.insert_many(mylist)\n",
    "\n",
    "#print list of the _id values of the inserted documents:\n",
    "print(x.inserted_ids)\n",
    "\n",
    "# The insert_many() method returns a InsertManyResult object, \n",
    "# which has a property, inserted_ids, that holds the ids of the \n",
    "# inserted documents.\n"
   ]
  },
  {
   "cell_type": "code",
   "execution_count": 7,
   "metadata": {},
   "outputs": [
    {
     "name": "stdout",
     "output_type": "stream",
     "text": [
      "[1, 2, 3, 4, 5, 6, 7, 8, 9, 10, 11, 12, 13, 14]\n"
     ]
    }
   ],
   "source": [
    "# # Insert Multiple Documents, with Specified IDs\n",
    "\n",
    "# If you do not want MongoDB to assign unique ids for your document, \n",
    "# you can specify the _id field when you insert the document(s).\n",
    "\n",
    "# Remember that the values has to be unique. Two documents cannot \n",
    "# have the same _id.\n",
    "\n",
    "mycol = mydb[\"customers\"]\n",
    "\n",
    "mylist = [\n",
    "  { \"_id\": 1, \"name\": \"John\", \"address\": \"Highway 37\"},\n",
    "  { \"_id\": 2, \"name\": \"Peter\", \"address\": \"Lowstreet 27\"},\n",
    "  { \"_id\": 3, \"name\": \"Amy\", \"address\": \"Apple st 652\"},\n",
    "  { \"_id\": 4, \"name\": \"Hannah\", \"address\": \"Mountain 21\"},\n",
    "  { \"_id\": 5, \"name\": \"Michael\", \"address\": \"Valley 345\"},\n",
    "  { \"_id\": 6, \"name\": \"Sandy\", \"address\": \"Ocean blvd 2\"},\n",
    "  { \"_id\": 7, \"name\": \"Betty\", \"address\": \"Green Grass 1\"},\n",
    "  { \"_id\": 8, \"name\": \"Richard\", \"address\": \"Sky st 331\"},\n",
    "  { \"_id\": 9, \"name\": \"Susan\", \"address\": \"One way 98\"},\n",
    "  { \"_id\": 10, \"name\": \"Vicky\", \"address\": \"Yellow Garden 2\"},\n",
    "  { \"_id\": 11, \"name\": \"Ben\", \"address\": \"Park Lane 38\"},\n",
    "  { \"_id\": 12, \"name\": \"William\", \"address\": \"Central st 954\"},\n",
    "  { \"_id\": 13, \"name\": \"Chuck\", \"address\": \"Main Road 989\"},\n",
    "  { \"_id\": 14, \"name\": \"Viola\", \"address\": \"Sideway 1633\"}\n",
    "]\n",
    "\n",
    "x = mycol.insert_many(mylist)\n",
    "\n",
    "#print list of the _id values of the inserted documents:\n",
    "print(x.inserted_ids)"
   ]
  }
 ],
 "metadata": {
  "kernelspec": {
   "display_name": "LearnPython",
   "language": "python",
   "name": "python3"
  },
  "language_info": {
   "codemirror_mode": {
    "name": "ipython",
    "version": 3
   },
   "file_extension": ".py",
   "mimetype": "text/x-python",
   "name": "python",
   "nbconvert_exporter": "python",
   "pygments_lexer": "ipython3",
   "version": "3.12.5"
  }
 },
 "nbformat": 4,
 "nbformat_minor": 2
}
