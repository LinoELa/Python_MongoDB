{
 "cells": [
  {
   "cell_type": "markdown",
   "metadata": {},
   "source": [
    "Importante: En MongoDB, ¡una base de datos no se crea hasta que no tiene contenido!\n",
    "\n",
    "MongoDB espera hasta que se haya creado una colección (tabla), con al menos un documento (registro) antes de crear realmente la base de datos (y la colección)."
   ]
  },
  {
   "cell_type": "code",
   "execution_count": 12,
   "metadata": {},
   "outputs": [
    {
     "name": "stdout",
     "output_type": "stream",
     "text": [
      "Creado Conectado Correctamente\n"
     ]
    }
   ],
   "source": [
    "import pymongo\n",
    "\n",
    "\n",
    "myclient = pymongo.MongoClient(\"mongodb://localhost:27017/\")\n",
    "mydb = myclient['mydatabase']\n",
    "\n",
    "print(\"Creado Conectado Correctamente\")"
   ]
  },
  {
   "cell_type": "code",
   "execution_count": 13,
   "metadata": {},
   "outputs": [
    {
     "name": "stdout",
     "output_type": "stream",
     "text": [
      "['admin', 'config', 'local']\n"
     ]
    }
   ],
   "source": [
    "# CHECK IF DATABASE EXISTS \n",
    "\n",
    "# Remember: In MongoDB, a database is not created until it gets content, \n",
    "# so if this is your first time creating a database, you should complete\n",
    "#  the next two chapters (create collection and create document) \n",
    "# before you check if the database exists!\n",
    "\n",
    "\n",
    "# You can check if a database exist by listing all databases in you system:\n",
    "# Return a list of your system's databases:\n",
    "\n",
    "print(myclient.list_database_names())\n",
    "\n"
   ]
  },
  {
   "cell_type": "code",
   "execution_count": 14,
   "metadata": {},
   "outputs": [
    {
     "name": "stdout",
     "output_type": "stream",
     "text": [
      "The database exists.\n"
     ]
    }
   ],
   "source": [
    "# Or you can check a specific database by name:\n",
    "\n",
    "\n",
    "dblist = myclient.list_database_names()\n",
    "if \"mydatabase\" in dblist:\n",
    "  print(\"The database exists.\")\n"
   ]
  }
 ],
 "metadata": {
  "kernelspec": {
   "display_name": "LearnPython",
   "language": "python",
   "name": "python3"
  },
  "language_info": {
   "codemirror_mode": {
    "name": "ipython",
    "version": 3
   },
   "file_extension": ".py",
   "mimetype": "text/x-python",
   "name": "python",
   "nbconvert_exporter": "python",
   "pygments_lexer": "ipython3",
   "version": "3.12.5"
  }
 },
 "nbformat": 4,
 "nbformat_minor": 2
}
