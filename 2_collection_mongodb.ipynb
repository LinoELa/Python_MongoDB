{
 "cells": [
  {
   "cell_type": "markdown",
   "metadata": {},
   "source": [
    "A collection in MongoDB is the same as a table in SQL databases"
   ]
  },
  {
   "cell_type": "code",
   "execution_count": 1,
   "metadata": {},
   "outputs": [],
   "source": [
    "import pymongo\n",
    "\n",
    "myclient = pymongo.MongoClient(\"mongodb://localhost:27017/\")\n",
    "mydb = myclient['mydatabase']\n"
   ]
  },
  {
   "cell_type": "code",
   "execution_count": null,
   "metadata": {},
   "outputs": [],
   "source": [
    "# Creating a Collection\n",
    "# To create a collection in MongoDB, use database object and specify the name of the collection you want to create.\n",
    "\n",
    "# MongoDB will create the collection if it does not exist.\n",
    "\n",
    "import pymongo\n",
    "\n",
    "myclient = pymongo.MongoClient(\"mongodb://localhost:27017/\")\n",
    "mydb = myclient[\"mydatabase\"]\n",
    "\n",
    "mycol = mydb[\"customers\"]\n",
    "\n",
    "# Important: In MongoDB, a collection is not created until it gets content!\n",
    "# MongoDB waits until you have inserted a document before it actually creates the collection."
   ]
  },
  {
   "cell_type": "code",
   "execution_count": 2,
   "metadata": {},
   "outputs": [
    {
     "name": "stdout",
     "output_type": "stream",
     "text": [
      "['practica']\n"
     ]
    }
   ],
   "source": [
    "# Check if Collection Exists\n",
    "# Remember: In MongoDB, a collection is not created until it gets content,\n",
    "#  so if this is your first time creating a collection, you should complete\n",
    "#  the next chapter (create document) before you check if the collection exists!\n",
    "\n",
    "print(mydb.list_collection_names())"
   ]
  },
  {
   "cell_type": "code",
   "execution_count": 4,
   "metadata": {},
   "outputs": [
    {
     "name": "stdout",
     "output_type": "stream",
     "text": [
      "The collection exists.\n"
     ]
    }
   ],
   "source": [
    "# Or you can check a specific collection by name:\n",
    "\n",
    "collist = mydb.list_collection_names()\n",
    "if \"practica\" in collist:\n",
    "  print(\"The collection exists.\")"
   ]
  }
 ],
 "metadata": {
  "kernelspec": {
   "display_name": "LearnPython",
   "language": "python",
   "name": "python3"
  },
  "language_info": {
   "codemirror_mode": {
    "name": "ipython",
    "version": 3
   },
   "file_extension": ".py",
   "mimetype": "text/x-python",
   "name": "python",
   "nbconvert_exporter": "python",
   "pygments_lexer": "ipython3",
   "version": "3.12.5"
  }
 },
 "nbformat": 4,
 "nbformat_minor": 2
}
